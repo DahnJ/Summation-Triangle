{
 "cells": [
  {
   "cell_type": "code",
   "execution_count": 62,
   "metadata": {
    "collapsed": true
   },
   "outputs": [],
   "source": [
    "n=4"
   ]
  },
  {
   "cell_type": "code",
   "execution_count": 74,
   "metadata": {
    "collapsed": false
   },
   "outputs": [],
   "source": [
    "def scitorial(n):\n",
    "    return int(n*(n+1)/2)\n",
    "\n",
    "triangle = [-1]*scitorial(n)"
   ]
  },
  {
   "cell_type": "code",
   "execution_count": 64,
   "metadata": {
    "collapsed": true
   },
   "outputs": [],
   "source": [
    "def end(n,r):\n",
    "    return n*r - scitorial(r-1) - 1\n",
    "\n",
    "def beg(n,r):\n",
    "    return end(n,r-1)+1"
   ]
  },
  {
   "cell_type": "code",
   "execution_count": 86,
   "metadata": {
    "collapsed": true
   },
   "outputs": [],
   "source": [
    "# Write out the triangle\n",
    "def write(n):\n",
    "    for r in range(1,n+1):\n",
    "        print(triangle[beg(n,r):end(n,r)+1])   "
   ]
  },
  {
   "cell_type": "code",
   "execution_count": 90,
   "metadata": {
    "collapsed": false
   },
   "outputs": [
    {
     "name": "stdout",
     "output_type": "stream",
     "text": [
      "[0, 1, 2, 3]\n",
      "[4, 5, 6]\n",
      "[7, 8]\n",
      "[9]\n"
     ]
    }
   ],
   "source": [
    "# Write out schema for indexes (and reset)\n",
    "for i in range(0,scitorial(n)):\n",
    "    triangle[i]=i\n",
    "\n",
    "write(n)\n",
    "    \n",
    "triangle = [-1]*scitorial(n)"
   ]
  },
  {
   "cell_type": "code",
   "execution_count": 102,
   "metadata": {
    "collapsed": false
   },
   "outputs": [],
   "source": [
    "# Position -> Index\n",
    "def ind(n,r,p):\n",
    "    return beg(n,r) + (p-1)\n",
    "\n",
    "def rightChild(n,r,p):\n",
    "    return ind(n,r+1,p)"
   ]
  },
  {
   "cell_type": "code",
   "execution_count": 103,
   "metadata": {
    "collapsed": false
   },
   "outputs": [
    {
     "name": "stdout",
     "output_type": "stream",
     "text": [
      "[4, 0, 3, 1]\n",
      "[4, 3, 4]\n",
      "[7, 7]\n",
      "[14]\n"
     ]
    }
   ],
   "source": [
    "# STEP 1: Fill a simple triangle, assumes perfect setting\n",
    "\n",
    "# First row\n",
    "triangle[0:n] = [4,0,3,1]\n",
    "\n",
    "# Fill in\n",
    "for row in range(1,n):\n",
    "    for pos in range(1,n-(row-1)):\n",
    "        # print(row,pos)\n",
    "        # print(ind(n,row,pos), rightChild(n,row,pos))\n",
    "        # print()\n",
    "        triangle[rightChild(n,row,pos)] = triangle[ind(n,row,pos)] + triangle[ind(n,row,pos+1)]\n",
    "        \n",
    "# Write\n",
    "write(n)\n",
    "triangle = [-1]*scitorial(n)"
   ]
  },
  {
   "cell_type": "code",
   "execution_count": 106,
   "metadata": {
    "collapsed": false
   },
   "outputs": [
    {
     "name": "stdout",
     "output_type": "stream",
     "text": [
      "[4, 0, 3, -1]\n",
      "[4, 3, -1]\n",
      "[7, -1]\n",
      "[-1]\n"
     ]
    }
   ],
   "source": [
    "# Step 2: Fill in whenever possible downwards\n",
    "\n",
    "# Set nonempty spots\n",
    "triangle[0:n] = [4,0,3,-1]\n",
    "\n",
    "# \n",
    "for row in range(1,n):\n",
    "    for pos in range(1,n-(row-1)):\n",
    "        if triangle[ind(n,row,pos)] != -1 and triangle[ind(n,row,pos+1)] != -1:\n",
    "            triangle[rightChild(n,row,pos)] = triangle[ind(n,row,pos)] + triangle[ind(n,row,pos+1)]\n",
    "            \n",
    "write(n)\n",
    "triangle = [-1]*scitorial(n)"
   ]
  },
  {
   "cell_type": "code",
   "execution_count": 119,
   "metadata": {
    "collapsed": false
   },
   "outputs": [],
   "source": [
    "def checkFull(n):\n",
    "    full = True\n",
    "    for row in range(1,n):\n",
    "        for pos in range(1,n-(row-1)+1):\n",
    "            if triangle[ind(n,row,pos)] == -1:\n",
    "                full = False\n",
    "    return full"
   ]
  },
  {
   "cell_type": "code",
   "execution_count": 133,
   "metadata": {
    "collapsed": false
   },
   "outputs": [
    {
     "name": "stdout",
     "output_type": "stream",
     "text": [
      "Input (-1 = empty)\n",
      "[-1, -1, -1, -1]\n",
      "[8, -1, 10]\n",
      "[-1, -1]\n",
      "[20]\n",
      "\n",
      "Output\n",
      "[-1, -1, -1, -1]\n",
      "[8, -1, 10]\n",
      "[-1, -1]\n",
      "[20]\n"
     ]
    }
   ],
   "source": [
    "# Step 3: Fill in little triangles - can do any simple deterministic triangle\n",
    "\n",
    "# Set nonempty spots\n",
    "# [11,-1,2,-1,-1,20,-1,-1,-1,92]\n",
    "triangle = [-1,-1,-1,-1,8,-1,10,-1,-1,20]\n",
    "print(\"Input (-1 = empty)\")\n",
    "write(n)\n",
    "print()\n",
    "\n",
    "done = False\n",
    "while not done:\n",
    "    initial = list(triangle)\n",
    "    \n",
    "    for row in range(1,n):\n",
    "        for pos in range(1,n-(row-1)):\n",
    "            left = triangle[ind(n,row,pos)]\n",
    "            right = triangle[ind(n,row,pos+1)]\n",
    "            down = triangle[rightChild(n,row,pos)]\n",
    "\n",
    "            # Left\n",
    "            if left == -1 and right != -1 and down != -1:\n",
    "                triangle[ind(n,row,pos)] = down - right\n",
    "\n",
    "            # Right\n",
    "            if left != -1 and right == -1 and down != -1:\n",
    "                triangle[ind(n,row,pos+1)] = down - left\n",
    "\n",
    "            # Down\n",
    "            if left != -1 and right != -1 and down == -1:\n",
    "                triangle[rightChild(n,row,pos)] = left + right\n",
    "            \n",
    "    if initial == triangle:\n",
    "        done = True\n",
    "\n",
    "print(\"Output\")\n",
    "write(n)\n",
    "triangle = [-1]*scitorial(n)"
   ]
  },
  {
   "cell_type": "code",
   "execution_count": null,
   "metadata": {
    "collapsed": true
   },
   "outputs": [],
   "source": []
  }
 ],
 "metadata": {
  "kernelspec": {
   "display_name": "Python 3",
   "language": "python",
   "name": "python3"
  },
  "language_info": {
   "codemirror_mode": {
    "name": "ipython",
    "version": 3
   },
   "file_extension": ".py",
   "mimetype": "text/x-python",
   "name": "python",
   "nbconvert_exporter": "python",
   "pygments_lexer": "ipython3",
   "version": "3.5.1"
  }
 },
 "nbformat": 4,
 "nbformat_minor": 0
}
